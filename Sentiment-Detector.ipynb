{
 "cells": [
  {
   "cell_type": "code",
   "execution_count": 2,
   "id": "bee1f75d",
   "metadata": {},
   "outputs": [],
   "source": [
    "class Sentiment:\n",
    "    NEGATIVE = 'NEGATIVE'\n",
    "    NEUTRAL = 'NEUTRAL'\n",
    "    POSITIVE = 'POSITIVE'\n",
    "    \n",
    "class Review:\n",
    "    def __init__(self, text, score):\n",
    "        self.text = text\n",
    "        self.score = score\n",
    "        self.sentiment = self.get_sentiment()\n",
    "        \n",
    "    def get_sentiment(self):\n",
    "        if self.score <= 2:\n",
    "            return Sentiment.NEGATIVE\n",
    "        elif self.score == 3:\n",
    "            return Sentiment.NEUTRAL\n",
    "        else:\n",
    "            return Sentiment.POSITIVE"
   ]
  },
  {
   "cell_type": "code",
   "execution_count": 3,
   "id": "7dfed9df",
   "metadata": {},
   "outputs": [
    {
     "data": {
      "text/plain": [
       "'POSITIVE'"
      ]
     },
     "execution_count": 3,
     "metadata": {},
     "output_type": "execute_result"
    }
   ],
   "source": [
    "import json\n",
    "\n",
    "\n",
    "reviews = []\n",
    "with open('./data/Books_small.json') as f:\n",
    "    for line in f:\n",
    "        review = json.loads(line)\n",
    "        reviews.append(Review(review['reviewText'], review['overall']))\n",
    "\n",
    "reviews[8].sentiment"
   ]
  },
  {
   "cell_type": "code",
   "execution_count": 4,
   "id": "f217d8b7",
   "metadata": {},
   "outputs": [
    {
     "data": {
      "text/plain": [
       "1000"
      ]
     },
     "execution_count": 4,
     "metadata": {},
     "output_type": "execute_result"
    }
   ],
   "source": [
    "len(reviews)"
   ]
  },
  {
   "cell_type": "code",
   "execution_count": 5,
   "id": "a031f357",
   "metadata": {},
   "outputs": [],
   "source": [
    "from sklearn.model_selection import train_test_split\n",
    "\n",
    "training, test = train_test_split(reviews, test_size=0.33, random_state=42)"
   ]
  },
  {
   "cell_type": "code",
   "execution_count": 10,
   "id": "bc9886b5",
   "metadata": {},
   "outputs": [],
   "source": [
    "train_x = [x.text for x in training]\n",
    "train_y = [y.sentiment for y in training]\n",
    "\n",
    "test_x = [x.text for x in test]\n",
    "test_y = [y.sentiment for y in test]\n"
   ]
  },
  {
   "cell_type": "markdown",
   "id": "8f65d9f2",
   "metadata": {},
   "source": [
    "### Using the bag of words vectorization"
   ]
  },
  {
   "cell_type": "code",
   "execution_count": 11,
   "id": "793aa03f",
   "metadata": {},
   "outputs": [
    {
     "data": {
      "text/plain": [
       "<670x7372 sparse matrix of type '<class 'numpy.int64'>'\n",
       "\twith 41455 stored elements in Compressed Sparse Row format>"
      ]
     },
     "execution_count": 11,
     "metadata": {},
     "output_type": "execute_result"
    }
   ],
   "source": [
    "from sklearn.feature_extraction.text import CountVectorizer\n",
    "\n",
    "vectorizer = CountVectorizer()\n",
    "vectorizer.fit_transform(train_x)"
   ]
  },
  {
   "cell_type": "code",
   "execution_count": 12,
   "id": "f3b57bca",
   "metadata": {},
   "outputs": [],
   "source": [
    "from sklearn.feature_extraction.text import CountVectorizer\n",
    "\n",
    "vectorizer = CountVectorizer()\n",
    "# Transform the training dataset into vectors that the machine can understand\n",
    "train_x_vectors = vectorizer.fit_transform(train_x)\n",
    "\n",
    "# Transform the test dataset into vectors\n",
    "test_x_vectors = vectorizer.transform(test_x)"
   ]
  },
  {
   "cell_type": "markdown",
   "id": "f5c08df8",
   "metadata": {},
   "source": [
    "## Classification model"
   ]
  },
  {
   "cell_type": "markdown",
   "id": "29737b48",
   "metadata": {},
   "source": [
    "#### Using the Linear SVM"
   ]
  },
  {
   "cell_type": "code",
   "execution_count": 18,
   "id": "c490bd0f",
   "metadata": {},
   "outputs": [
    {
     "data": {
      "text/plain": [
       "0.8242424242424242"
      ]
     },
     "execution_count": 18,
     "metadata": {},
     "output_type": "execute_result"
    }
   ],
   "source": [
    "from sklearn.svm import SVC\n",
    "\n",
    "# Declare an instance of the model and fit the training data to the model\n",
    "clf_svm = SVC(kernel='linear')\n",
    "clf_svm.fit(train_x_vectors, train_y)\n",
    "\n",
    "# Running a score assessment on the model to determine accuracy\n",
    "clf_svm.score(test_x_vectors, test_y)\n"
   ]
  },
  {
   "cell_type": "code",
   "execution_count": 17,
   "id": "1a2e19fc",
   "metadata": {},
   "outputs": [
    {
     "data": {
      "text/plain": [
       "array(['POSITIVE'], dtype='<U8')"
      ]
     },
     "execution_count": 17,
     "metadata": {},
     "output_type": "execute_result"
    }
   ],
   "source": [
    "# Testing a sample to view result\n",
    "clf_svm.predict(test_x_vectors[10])"
   ]
  },
  {
   "cell_type": "markdown",
   "id": "0c1fdf18",
   "metadata": {},
   "source": [
    "#### Using the Decision Tree"
   ]
  },
  {
   "cell_type": "code",
   "execution_count": 19,
   "id": "1c4c4de9",
   "metadata": {},
   "outputs": [
    {
     "data": {
      "text/plain": [
       "0.7545454545454545"
      ]
     },
     "execution_count": 19,
     "metadata": {},
     "output_type": "execute_result"
    }
   ],
   "source": [
    "from sklearn.tree import DecisionTreeClassifier\n",
    "\n",
    "# Declare an instance of the model and fit the training data to the model\n",
    "clf_dec = DecisionTreeClassifier()\n",
    "clf_dec.fit(train_x_vectors, train_y)\n",
    "\n",
    "\n",
    "# Running a score assessment on the model to determine accuracy\n",
    "clf_dec.score(test_x_vectors, test_y)"
   ]
  },
  {
   "cell_type": "code",
   "execution_count": null,
   "id": "f39f82fc",
   "metadata": {},
   "outputs": [],
   "source": []
  }
 ],
 "metadata": {
  "kernelspec": {
   "display_name": "Python 3 (ipykernel)",
   "language": "python",
   "name": "python3"
  },
  "language_info": {
   "codemirror_mode": {
    "name": "ipython",
    "version": 3
   },
   "file_extension": ".py",
   "mimetype": "text/x-python",
   "name": "python",
   "nbconvert_exporter": "python",
   "pygments_lexer": "ipython3",
   "version": "3.9.7"
  }
 },
 "nbformat": 4,
 "nbformat_minor": 5
}
